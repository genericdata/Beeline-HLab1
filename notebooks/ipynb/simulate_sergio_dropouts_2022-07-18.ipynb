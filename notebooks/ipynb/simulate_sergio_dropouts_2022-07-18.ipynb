{
 "cells": [
  {
   "cell_type": "markdown",
   "metadata": {},
   "source": [
    "# Set file paths"
   ]
  },
  {
   "cell_type": "code",
   "execution_count": 1,
   "metadata": {},
   "outputs": [],
   "source": [
    "SERGIO_HOME = '/scratch/ch153/packages/SERGIO/PayamDiba/SERGIO'\n",
    "SERGIO_DATASETS_DIR = '/scratch/ch153/packages/SERGIO/PayamDiba/SERGIO/data_sets'\n",
    "INPUTS_BEELINE_DIR = '/scratch/ch153/packages/BEELINE/hlab1/Beeline/inputs_beeline3'"
   ]
  },
  {
   "cell_type": "code",
   "execution_count": 2,
   "metadata": {},
   "outputs": [],
   "source": [
    "import os\n",
    "import sys\n",
    "import numpy as np\n",
    "import pandas as pd\n",
    "import shutil\n",
    "sys.path.append(SERGIO_HOME)\n",
    "from SERGIO.sergio import sergio"
   ]
  },
  {
   "cell_type": "markdown",
   "metadata": {},
   "source": [
    "# Test dropout calculation for DS6 net0"
   ]
  },
  {
   "cell_type": "code",
   "execution_count": 3,
   "metadata": {},
   "outputs": [],
   "source": [
    "exprU_clean = pd.read_csv(os.path.join(SERGIO_DATASETS_DIR,'De-noised_100G_6T_300cPerT_dynamics_7_DS6/simulated_noNoise_U_0.csv'), \n",
    "                                       sep=',', header=0, index_col=0)\n",
    "exprS_clean = pd.read_csv(os.path.join(SERGIO_DATASETS_DIR,'De-noised_100G_6T_300cPerT_dynamics_7_DS6/simulated_noNoise_S_0.csv'), \n",
    "                                       sep=',', header=0, index_col=0)\n"
   ]
  },
  {
   "cell_type": "code",
   "execution_count": 4,
   "metadata": {},
   "outputs": [
    {
     "name": "stdout",
     "output_type": "stream",
     "text": [
      "(6, 100, 300)\n",
      "(6, 100, 300)\n"
     ]
    }
   ],
   "source": [
    "exprU = np.stack(np.split(exprU_clean,6,axis=1))\n",
    "exprS = np.stack(np.split(exprU_clean,6,axis=1))\n",
    "print(exprU.shape)\n",
    "print(exprS.shape)"
   ]
  },
  {
   "cell_type": "code",
   "execution_count": 5,
   "metadata": {},
   "outputs": [],
   "source": [
    "df = pd.read_csv(os.path.join(SERGIO_DATASETS_DIR,'De-noised_100G_6T_300cPerT_dynamics_7_DS6/bMat_cID7.tab'), \n",
    "                 sep='\\t', header=None, index_col=None)\n",
    "bMat = df.values\n",
    "\n",
    "sim = sergio(number_genes=100, number_bins = 6, number_sc = 300, noise_params = 0.2, decays=0.8, sampling_state = 1, noise_params_splice = 0.07, noise_type='dpd', dynamics=True, bifurcation_matrix= bMat)\n",
    "sim.build_graph(input_file_taregts =os.path.join(SERGIO_DATASETS_DIR,'De-noised_100G_6T_300cPerT_dynamics_7_DS6/Interaction_cID_7.txt'), \n",
    "                input_file_regs=os.path.join(SERGIO_DATASETS_DIR,'De-noised_100G_6T_300cPerT_dynamics_7_DS6/Regs_cID_7.txt'), \n",
    "                shared_coop_state=2)\n",
    "\n",
    "binary_indU, binary_indS = sim.dropout_indicator_dynamics(exprU, exprS, shape = 6.5, percentile = 82)\n",
    "exprU_D = np.multiply(binary_indU, exprU)\n",
    "exprS_D = np.multiply(binary_indS, exprS)\n",
    "exprT_D = exprU_D + exprS_D"
   ]
  },
  {
   "cell_type": "code",
   "execution_count": 6,
   "metadata": {},
   "outputs": [],
   "source": [
    "exprU_df = pd.DataFrame(np.concatenate(exprU_D,axis=1))\n",
    "exprS_df = pd.DataFrame(np.concatenate(exprS_D,axis=1))\n",
    "exprT_df = pd.DataFrame(np.concatenate(exprT_D,axis=1),columns=np.repeat(range(6),300))\n",
    "exprU_df.to_csv('exprU_df.csv',sep=',')\n",
    "exprS_df.to_csv('exprS_df.csv',sep=',')\n",
    "exprT_df.to_csv('exprT_df.csv',sep=',')"
   ]
  },
  {
   "cell_type": "code",
   "execution_count": 7,
   "metadata": {},
   "outputs": [
    {
     "data": {
      "text/plain": [
       "3    0.000000\n",
       "4    6.760398\n",
       "5    0.000000\n",
       "Name: 4, dtype: float64"
      ]
     },
     "execution_count": 7,
     "metadata": {},
     "output_type": "execute_result"
    }
   ],
   "source": [
    "exprU_df.iloc[4,3:6]"
   ]
  },
  {
   "cell_type": "code",
   "execution_count": 8,
   "metadata": {},
   "outputs": [],
   "source": [
    "\"\"\"\n",
    "Convert to UMI count\n",
    "\"\"\"\n",
    "count_matrix_U, count_matrix_S = sim.convert_to_UMIcounts_dynamics(exprU_D, exprS_D)\n",
    "\n",
    "\"\"\"\n",
    "Make 2d spliced and unspliced expression matrices\n",
    "\"\"\"\n",
    "count_matrix_U = np.concatenate(count_matrix_U, axis = 1)\n",
    "count_matrix_S = np.concatenate(count_matrix_S, axis = 1)\n",
    "count_matrix_T = count_matrix_U + count_matrix_S"
   ]
  },
  {
   "cell_type": "markdown",
   "metadata": {},
   "source": [
    "# Copy source datasets"
   ]
  },
  {
   "cell_type": "code",
   "execution_count": 9,
   "metadata": {},
   "outputs": [],
   "source": [
    "SERGIO_DATASET_PARAMS = pd.DataFrame(data={\n",
    "    'exp_name':['DS1','DS2','DS3','DS8','DS4','DS5','DS6','DS7'],\n",
    "    'exp_dir':['SERGIO_DS1','SERGIO_DS2','SERGIO_DS3',\n",
    "               'SERGIO_DS8','SERGIO_DS4','SERGIO_DS5',\n",
    "               'SERGIO_DS6','SERGIO_DS7'],\n",
    "    'source_dir':['De-noised_100G_9T_300cPerT_4_DS1',\n",
    "                  'De-noised_400G_9T_300cPerT_5_DS2',\n",
    "                  'De-noised_1200G_9T_300cPerT_6_DS3',\n",
    "                  'De-noised_100G_3T_300cPerT_dynamics_8_DS8',\n",
    "                  'De-noised_100G_3T_300cPerT_dynamics_9_DS4',\n",
    "                  'De-noised_100G_4T_300cPerT_dynamics_10_DS5',\n",
    "                  'De-noised_100G_6T_300cPerT_dynamics_7_DS6',\n",
    "                  'De-noised_100G_7T_300cPerT_dynamics_11_DS7'],\n",
    "    'expfile':['simulated_noNoise_{network_i}.csv',\n",
    "               'simulated_noNoise_{network_i}.csv',\n",
    "               'simulated_noNoise_{network_i}.csv',\n",
    "               'simulated_noNoise_{sp}_{network_i}.csv',\n",
    "               'simulated_noNoise_{sp}_{network_i}.csv',\n",
    "               'simulated_noNoise_{sp}_{network_i}.csv',\n",
    "               'simulated_noNoise_{sp}_{network_i}.csv',\n",
    "               'simulated_noNoise_{sp}_{network_i}.csv'],\n",
    "    'bmatfile':np.repeat(['bMat_cID{cid}.tab'],8),\n",
    "    'interactionfile':np.repeat(['Interaction_cID_{cid}.txt'],8),\n",
    "    'netfile':np.repeat(['gt_GRN.csv'],8),\n",
    "    'regsfile':np.repeat(['Regs_cID_{cid}.txt'],8),\n",
    "    'nsim':np.repeat([15],8),\n",
    "    'cid':['4','5','6','8','9','10','7','11'],\n",
    "    'ncells_per_cl':[300,300,300,300,300,300,300,300],\n",
    "    'ngenes':[100,400,1200,100,100,100,100,100],\n",
    "    'nclusters':[9,9,9,3,3,4,6,7],\n",
    "    'desc':['100G_9T','400G_9T','1200G_9T','3T_BIF',\n",
    "            '3T_LIN','4T_BIF','6T_TRIF','7T_TREE']})"
   ]
  },
  {
   "cell_type": "code",
   "execution_count": 10,
   "metadata": {},
   "outputs": [
    {
     "name": "stdout",
     "output_type": "stream",
     "text": [
      "4\n",
      "bMat_cID9.tab\n",
      "Interaction_cID_9.txt\n",
      "gt_GRN.csv\n",
      "Regs_cID_9.txt\n",
      "5\n",
      "bMat_cID10.tab\n",
      "Interaction_cID_10.txt\n",
      "gt_GRN.csv\n",
      "Regs_cID_10.txt\n",
      "6\n",
      "bMat_cID7.tab\n",
      "Interaction_cID_7.txt\n",
      "gt_GRN.csv\n",
      "Regs_cID_7.txt\n",
      "7\n",
      "bMat_cID11.tab\n",
      "Interaction_cID_11.txt\n",
      "gt_GRN.csv\n",
      "Regs_cID_11.txt\n"
     ]
    }
   ],
   "source": [
    "for params_i in range(4,SERGIO_DATASET_PARAMS.shape[0]):\n",
    "    print(params_i)\n",
    "    params_row = SERGIO_DATASET_PARAMS.iloc[params_i]\n",
    "    \n",
    "    os.makedirs(os.path.join(INPUTS_BEELINE_DIR,params_row['exp_dir']), exist_ok = True)\n",
    "    for fname in ['bmatfile','interactionfile','netfile','regsfile']:\n",
    "        fpath = params_row[fname].format(cid=params_row['cid'])\n",
    "        print(fpath)\n",
    "        shutil.copyfile(os.path.join(SERGIO_DATASETS_DIR,params_row['source_dir'],fpath),\n",
    "                        os.path.join(INPUTS_BEELINE_DIR,params_row['exp_dir'],fpath))\n",
    "    \n",
    "    for network_i in range(params_row['nsim']):\n",
    "        for sp in ['U','S','T']:\n",
    "            sim_in = params_row['expfile'].format(sp=sp,network_i=network_i)\n",
    "            sim_out_dir = os.path.join(INPUTS_BEELINE_DIR,params_row['exp_dir'],'net{network_i}'.format(network_i=network_i))\n",
    "            os.makedirs(sim_out_dir, exist_ok = True)\n",
    "            shutil.copy(os.path.join(SERGIO_DATASETS_DIR,params_row['source_dir'],sim_in),\n",
    "                        os.path.join(sim_out_dir,sim_in))"
   ]
  },
  {
   "cell_type": "markdown",
   "metadata": {},
   "source": [
    "# Generate drop-out data"
   ]
  },
  {
   "cell_type": "code",
   "execution_count": 11,
   "metadata": {},
   "outputs": [
    {
     "name": "stdout",
     "output_type": "stream",
     "text": [
      "exp_name                                                 DS4\n",
      "exp_dir                                           SERGIO_DS4\n",
      "source_dir         De-noised_100G_3T_300cPerT_dynamics_9_DS4\n",
      "expfile               simulated_noNoise_{sp}_{network_i}.csv\n",
      "bmatfile                                   bMat_cID{cid}.tab\n",
      "interactionfile                    Interaction_cID_{cid}.txt\n",
      "netfile                                           gt_GRN.csv\n",
      "regsfile                                  Regs_cID_{cid}.txt\n",
      "nsim                                                      15\n",
      "cid                                                        9\n",
      "ncells_per_cl                                            300\n",
      "ngenes                                                   100\n",
      "nclusters                                                  3\n",
      "desc                                                  3T_LIN\n",
      "Name: 4, dtype: object\n",
      "Networks\n",
      "0 1 2 3 4 5 6 7 8 9 10 11 12 13 14 \n",
      "exp_name                                                  DS5\n",
      "exp_dir                                            SERGIO_DS5\n",
      "source_dir         De-noised_100G_4T_300cPerT_dynamics_10_DS5\n",
      "expfile                simulated_noNoise_{sp}_{network_i}.csv\n",
      "bmatfile                                    bMat_cID{cid}.tab\n",
      "interactionfile                     Interaction_cID_{cid}.txt\n",
      "netfile                                            gt_GRN.csv\n",
      "regsfile                                   Regs_cID_{cid}.txt\n",
      "nsim                                                       15\n",
      "cid                                                        10\n",
      "ncells_per_cl                                             300\n",
      "ngenes                                                    100\n",
      "nclusters                                                   4\n",
      "desc                                                   4T_BIF\n",
      "Name: 5, dtype: object\n",
      "Networks\n",
      "0 1 2 3 4 5 6 7 8 9 10 11 12 13 14 \n",
      "exp_name                                                 DS6\n",
      "exp_dir                                           SERGIO_DS6\n",
      "source_dir         De-noised_100G_6T_300cPerT_dynamics_7_DS6\n",
      "expfile               simulated_noNoise_{sp}_{network_i}.csv\n",
      "bmatfile                                   bMat_cID{cid}.tab\n",
      "interactionfile                    Interaction_cID_{cid}.txt\n",
      "netfile                                           gt_GRN.csv\n",
      "regsfile                                  Regs_cID_{cid}.txt\n",
      "nsim                                                      15\n",
      "cid                                                        7\n",
      "ncells_per_cl                                            300\n",
      "ngenes                                                   100\n",
      "nclusters                                                  6\n",
      "desc                                                 6T_TRIF\n",
      "Name: 6, dtype: object\n",
      "Networks\n",
      "0 1 2 3 4 5 6 7 8 9 10 11 12 13 14 \n",
      "exp_name                                                  DS7\n",
      "exp_dir                                            SERGIO_DS7\n",
      "source_dir         De-noised_100G_7T_300cPerT_dynamics_11_DS7\n",
      "expfile                simulated_noNoise_{sp}_{network_i}.csv\n",
      "bmatfile                                    bMat_cID{cid}.tab\n",
      "interactionfile                     Interaction_cID_{cid}.txt\n",
      "netfile                                            gt_GRN.csv\n",
      "regsfile                                   Regs_cID_{cid}.txt\n",
      "nsim                                                       15\n",
      "cid                                                        11\n",
      "ncells_per_cl                                             300\n",
      "ngenes                                                    100\n",
      "nclusters                                                   7\n",
      "desc                                                  7T_TREE\n",
      "Name: 7, dtype: object\n",
      "Networks\n",
      "0 1 2 3 4 5 6 7 8 9 10 11 12 13 14 \n"
     ]
    }
   ],
   "source": [
    "dropout_shape = [6.5]\n",
    "dropout_perc = [80]\n",
    "for params_i in range(4,SERGIO_DATASET_PARAMS.shape[0]):\n",
    "    params_row = SERGIO_DATASET_PARAMS.iloc[params_i]\n",
    "    print(params_row)\n",
    "\n",
    "    bmatfile = pd.read_csv(os.path.join(INPUTS_BEELINE_DIR,params_row['exp_dir'],params_row['bmatfile'].format(cid=params_row['cid'])),\n",
    "                 sep='\\t', header=None, index_col=None)\n",
    "    bMat = df.values\n",
    "    sim = sergio(number_genes=params_row['ngenes'], number_bins = params_row['nclusters'], number_sc = params_row['ncells_per_cl'], \n",
    "                 noise_params = 0.2, decays=0.8, sampling_state = 1, noise_params_splice = 0.07, noise_type='dpd', \n",
    "                 dynamics=True, bifurcation_matrix= bMat)\n",
    "    sim.build_graph(input_file_taregts =os.path.join(INPUTS_BEELINE_DIR,params_row['exp_dir'],params_row['interactionfile'].format(cid=params_row['cid'])), \n",
    "                    input_file_regs=os.path.join(INPUTS_BEELINE_DIR,params_row['exp_dir'],params_row['regsfile'].format(cid=params_row['cid'])), \n",
    "                    shared_coop_state=2)\n",
    "\n",
    "    print('Networks')\n",
    "    for network_i in range(15):\n",
    "        print('{network_i}'.format(network_i=network_i),end=\" \")\n",
    "        exprU_clean = pd.read_csv(os.path.join(INPUTS_BEELINE_DIR,params_row['exp_dir'],'net{network_i}'.format(network_i=network_i),\n",
    "                                               params_row['expfile'].format(sp='U',network_i=network_i)),\n",
    "                                               sep=',', header=0, index_col=0)\n",
    "        exprS_clean = pd.read_csv(os.path.join(INPUTS_BEELINE_DIR,params_row['exp_dir'],'net{network_i}'.format(network_i=network_i),\n",
    "                                               params_row['expfile'].format(sp='S',network_i=network_i)),\n",
    "                                               sep=',', header=0, index_col=0)\n",
    "        # reshape (#genes * (#cells_per_type * #cell_types)) to (#cell_types * #genes * #cells_per_type) \n",
    "        exprU = np.stack(np.split(exprU_clean,params_row['nclusters'],axis=1))\n",
    "        exprS = np.stack(np.split(exprS_clean,params_row['nclusters'],axis=1))\n",
    "        \n",
    "        # add drop outs\n",
    "        for dsh in dropout_shape:\n",
    "            for dp in dropout_perc:\n",
    "                binary_indU, binary_indS = sim.dropout_indicator_dynamics(exprU, exprS, shape = dsh, percentile = dp)\n",
    "                exprU_D = np.multiply(binary_indU, exprU)\n",
    "                exprS_D = np.multiply(binary_indS, exprS)\n",
    "                exprT_D = exprU_D + exprS_D\n",
    "\n",
    "                # reshape to (#genes * (#cells_per_type * #cell_types)) and write to csv\n",
    "                exprU_df = pd.DataFrame(np.concatenate(exprU_D,axis=1))\n",
    "                exprS_df = pd.DataFrame(np.concatenate(exprS_D,axis=1))\n",
    "                exprT_df = pd.DataFrame(np.concatenate(exprT_D,axis=1),columns=np.repeat(range(params_row['nclusters']),params_row['ncells_per_cl']))\n",
    "\n",
    "                out_dir  = os.path.join(INPUTS_BEELINE_DIR,params_row['exp_dir'],'net{network_i}_sh{dsh}_perc{dp}'.format(network_i=network_i,dsh=dsh,dp=dp))\n",
    "                os.makedirs(out_dir, exist_ok = True)            \n",
    "                exprU_df.to_csv(os.path.join(out_dir,'simulated_noNoise_U_D.csv'),sep=',')\n",
    "                exprS_df.to_csv(os.path.join(out_dir,'simulated_noNoise_S_D.csv'),sep=',')\n",
    "                exprT_df.to_csv(os.path.join(out_dir,'simulated_noNoise_T_D.csv'),sep=',')\n",
    "    print(\"\")"
   ]
  },
  {
   "cell_type": "code",
   "execution_count": null,
   "metadata": {},
   "outputs": [],
   "source": []
  }
 ],
 "metadata": {
  "kernelspec": {
   "display_name": "sergio_100_py310",
   "language": "python",
   "name": "sergio_100_py310"
  },
  "language_info": {
   "codemirror_mode": {
    "name": "ipython",
    "version": 3
   },
   "file_extension": ".py",
   "mimetype": "text/x-python",
   "name": "python",
   "nbconvert_exporter": "python",
   "pygments_lexer": "ipython3",
   "version": "3.10.5"
  }
 },
 "nbformat": 4,
 "nbformat_minor": 4
}
